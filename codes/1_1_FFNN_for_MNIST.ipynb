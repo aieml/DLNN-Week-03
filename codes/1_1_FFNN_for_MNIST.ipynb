{
  "nbformat": 4,
  "nbformat_minor": 0,
  "metadata": {
    "kernelspec": {
      "name": "python3",
      "display_name": "Python 3"
    },
    "language_info": {
      "codemirror_mode": {
        "name": "ipython",
        "version": 3
      },
      "file_extension": ".py",
      "mimetype": "text/x-python",
      "name": "python",
      "nbconvert_exporter": "python",
      "pygments_lexer": "ipython3",
      "version": "3.7.4"
    },
    "colab": {
      "name": "1.1 FFNN for MNIST.ipynb",
      "provenance": []
    },
    "accelerator": "GPU"
  },
  "cells": [
    {
      "cell_type": "code",
      "metadata": {
        "id": "fNIgdf88W0ak",
        "colab_type": "code",
        "colab": {}
      },
      "source": [
        "from tensorflow.keras.datasets import mnist\n",
        "\n",
        "(train_data,train_target),(test_data,test_target)=mnist.load_data()"
      ],
      "execution_count": 0,
      "outputs": []
    },
    {
      "cell_type": "code",
      "metadata": {
        "id": "aZnR3s5eW0ar",
        "colab_type": "code",
        "outputId": "21903669-dc49-4b5c-9652-3b54f1b51e91",
        "colab": {
          "base_uri": "https://localhost:8080/",
          "height": 425
        }
      },
      "source": [
        "from tensorflow.keras.models import Sequential\n",
        "from tensorflow.keras.layers import Dense,Flatten,Dropout\n",
        "\n",
        "model=Sequential()\n",
        "\n",
        "model.add(Flatten(input_shape=(28,28)))\n",
        "#Converting the 2D image to a column vector\n",
        "\n",
        "model.add(Dense(512,activation='relu'))\n",
        "model.add(Dropout(0.5))\n",
        "model.add(Dense(256,activation='relu'))\n",
        "model.add(Dropout(0.5))\n",
        "model.add(Dense(128,activation='relu'))\n",
        "model.add(Dropout(0.5))\n",
        "model.add(Dense(10,activation='softmax'))\n",
        "\n",
        "model.compile(loss='categorical_crossentropy',optimizer='adam',metrics=['accuracy'])\n",
        "model.summary()"
      ],
      "execution_count": 9,
      "outputs": [
        {
          "output_type": "stream",
          "text": [
            "Model: \"sequential_1\"\n",
            "_________________________________________________________________\n",
            "Layer (type)                 Output Shape              Param #   \n",
            "=================================================================\n",
            "flatten_1 (Flatten)          (None, 784)               0         \n",
            "_________________________________________________________________\n",
            "dense_4 (Dense)              (None, 512)               401920    \n",
            "_________________________________________________________________\n",
            "dropout_1 (Dropout)          (None, 512)               0         \n",
            "_________________________________________________________________\n",
            "dense_5 (Dense)              (None, 256)               131328    \n",
            "_________________________________________________________________\n",
            "dropout_2 (Dropout)          (None, 256)               0         \n",
            "_________________________________________________________________\n",
            "dense_6 (Dense)              (None, 128)               32896     \n",
            "_________________________________________________________________\n",
            "dropout_3 (Dropout)          (None, 128)               0         \n",
            "_________________________________________________________________\n",
            "dense_7 (Dense)              (None, 10)                1290      \n",
            "=================================================================\n",
            "Total params: 567,434\n",
            "Trainable params: 567,434\n",
            "Non-trainable params: 0\n",
            "_________________________________________________________________\n"
          ],
          "name": "stdout"
        }
      ]
    },
    {
      "cell_type": "code",
      "metadata": {
        "id": "VDFj3ZZ5W0ax",
        "colab_type": "code",
        "outputId": "ef0ba595-b6f5-4660-b7c3-04fc1e97545a",
        "colab": {
          "base_uri": "https://localhost:8080/",
          "height": 119
        }
      },
      "source": [
        "new_train_data=train_data/255.0\n",
        "new_test_data=test_data/255.0\n",
        "\n",
        "from tensorflow.keras import utils as np_utils\n",
        "\n",
        "new_train_target=np_utils.to_categorical(train_target)\n",
        "new_test_target=np_utils.to_categorical(test_target)\n",
        "\n",
        "print(train_target[:5])\n",
        "print(new_train_target[:5])"
      ],
      "execution_count": 10,
      "outputs": [
        {
          "output_type": "stream",
          "text": [
            "[5 0 4 1 9]\n",
            "[[0. 0. 0. 0. 0. 1. 0. 0. 0. 0.]\n",
            " [1. 0. 0. 0. 0. 0. 0. 0. 0. 0.]\n",
            " [0. 0. 0. 0. 1. 0. 0. 0. 0. 0.]\n",
            " [0. 1. 0. 0. 0. 0. 0. 0. 0. 0.]\n",
            " [0. 0. 0. 0. 0. 0. 0. 0. 0. 1.]]\n"
          ],
          "name": "stdout"
        }
      ]
    },
    {
      "cell_type": "code",
      "metadata": {
        "id": "dGZCF4cVW0a7",
        "colab_type": "code",
        "outputId": "f3f9e7cd-af67-4a76-900b-cd4a12141fe7",
        "colab": {
          "base_uri": "https://localhost:8080/",
          "height": 717
        }
      },
      "source": [
        "train_infor=model.fit(new_train_data,new_train_target,epochs=20,validation_split=0.2)"
      ],
      "execution_count": 11,
      "outputs": [
        {
          "output_type": "stream",
          "text": [
            "Epoch 1/20\n",
            "1500/1500 [==============================] - 4s 3ms/step - loss: 0.4901 - accuracy: 0.8511 - val_loss: 0.1588 - val_accuracy: 0.9553\n",
            "Epoch 2/20\n",
            "1500/1500 [==============================] - 4s 3ms/step - loss: 0.2503 - accuracy: 0.9312 - val_loss: 0.1237 - val_accuracy: 0.9643\n",
            "Epoch 3/20\n",
            "1500/1500 [==============================] - 4s 3ms/step - loss: 0.1987 - accuracy: 0.9462 - val_loss: 0.1191 - val_accuracy: 0.9665\n",
            "Epoch 4/20\n",
            "1500/1500 [==============================] - 4s 3ms/step - loss: 0.1781 - accuracy: 0.9506 - val_loss: 0.1035 - val_accuracy: 0.9712\n",
            "Epoch 5/20\n",
            "1500/1500 [==============================] - 4s 3ms/step - loss: 0.1621 - accuracy: 0.9565 - val_loss: 0.0961 - val_accuracy: 0.9732\n",
            "Epoch 6/20\n",
            "1500/1500 [==============================] - 4s 3ms/step - loss: 0.1495 - accuracy: 0.9586 - val_loss: 0.0996 - val_accuracy: 0.9736\n",
            "Epoch 7/20\n",
            "1500/1500 [==============================] - 4s 3ms/step - loss: 0.1360 - accuracy: 0.9621 - val_loss: 0.1022 - val_accuracy: 0.9719\n",
            "Epoch 8/20\n",
            "1500/1500 [==============================] - 4s 3ms/step - loss: 0.1301 - accuracy: 0.9644 - val_loss: 0.0871 - val_accuracy: 0.9764\n",
            "Epoch 9/20\n",
            "1500/1500 [==============================] - 4s 3ms/step - loss: 0.1253 - accuracy: 0.9653 - val_loss: 0.0882 - val_accuracy: 0.9759\n",
            "Epoch 10/20\n",
            "1500/1500 [==============================] - 4s 3ms/step - loss: 0.1156 - accuracy: 0.9681 - val_loss: 0.0971 - val_accuracy: 0.9749\n",
            "Epoch 11/20\n",
            "1500/1500 [==============================] - 4s 3ms/step - loss: 0.1158 - accuracy: 0.9696 - val_loss: 0.0854 - val_accuracy: 0.9778\n",
            "Epoch 12/20\n",
            "1500/1500 [==============================] - 4s 3ms/step - loss: 0.1061 - accuracy: 0.9716 - val_loss: 0.0930 - val_accuracy: 0.9768\n",
            "Epoch 13/20\n",
            "1500/1500 [==============================] - 4s 3ms/step - loss: 0.1046 - accuracy: 0.9714 - val_loss: 0.0900 - val_accuracy: 0.9773\n",
            "Epoch 14/20\n",
            "1500/1500 [==============================] - 4s 3ms/step - loss: 0.1003 - accuracy: 0.9722 - val_loss: 0.0908 - val_accuracy: 0.9796\n",
            "Epoch 15/20\n",
            "1500/1500 [==============================] - 4s 3ms/step - loss: 0.0968 - accuracy: 0.9749 - val_loss: 0.0949 - val_accuracy: 0.9767\n",
            "Epoch 16/20\n",
            "1500/1500 [==============================] - 4s 3ms/step - loss: 0.0994 - accuracy: 0.9726 - val_loss: 0.0904 - val_accuracy: 0.9776\n",
            "Epoch 17/20\n",
            "1500/1500 [==============================] - 4s 3ms/step - loss: 0.0910 - accuracy: 0.9747 - val_loss: 0.0885 - val_accuracy: 0.9776\n",
            "Epoch 18/20\n",
            "1500/1500 [==============================] - 4s 3ms/step - loss: 0.0889 - accuracy: 0.9749 - val_loss: 0.0916 - val_accuracy: 0.9787\n",
            "Epoch 19/20\n",
            "1500/1500 [==============================] - 4s 3ms/step - loss: 0.0879 - accuracy: 0.9763 - val_loss: 0.0941 - val_accuracy: 0.9788\n",
            "Epoch 20/20\n",
            "1500/1500 [==============================] - 4s 3ms/step - loss: 0.0867 - accuracy: 0.9762 - val_loss: 0.0899 - val_accuracy: 0.9783\n"
          ],
          "name": "stdout"
        }
      ]
    },
    {
      "cell_type": "code",
      "metadata": {
        "id": "Ou67ovuUW0bE",
        "colab_type": "code",
        "outputId": "4c1e0af1-ae92-4df3-f3d7-14f10ce9d2fc",
        "colab": {
          "base_uri": "https://localhost:8080/",
          "height": 279
        }
      },
      "source": [
        "from matplotlib import pyplot as plt\n",
        "\n",
        "plt.plot(train_infor.history['loss'],'r',label='training loss')\n",
        "plt.plot(train_infor.history['val_loss'],'g',label='validation loss')\n",
        "plt.legend()\n",
        "plt.xlabel('# epochs')\n",
        "plt.xlabel('loss')\n",
        "plt.show()"
      ],
      "execution_count": 12,
      "outputs": [
        {
          "output_type": "display_data",
          "data": {
            "image/png": "[encoded data removed]",
            "text/plain": [
              "<Figure size 432x288 with 1 Axes>"
            ]
          },
          "metadata": {
            "tags": [],
            "needs_background": "light"
          }
        }
      ]
    },
    {
      "cell_type": "code",
      "metadata": {
        "id": "aEQu3bDhW0bO",
        "colab_type": "code",
        "outputId": "233379f8-bfa0-437b-d48e-9e6af62f50bd",
        "colab": {
          "base_uri": "https://localhost:8080/",
          "height": 279
        }
      },
      "source": [
        "plt.plot(train_infor.history['accuracy'],'r',label='training accuracy')\n",
        "plt.plot(train_infor.history['val_accuracy'],'g',label='validation accuracy')\n",
        "plt.legend()\n",
        "plt.xlabel('# epochs')\n",
        "plt.xlabel('accuracy')\n",
        "plt.show()"
      ],
      "execution_count": 13,
      "outputs": [
        {
          "output_type": "display_data",
          "data": {
            "image/png": "[encoded data removed]",
            "text/plain": [
              "<Figure size 432x288 with 1 Axes>"
            ]
          },
          "metadata": {
            "tags": [],
            "needs_background": "light"
          }
        }
      ]
    },
    {
      "cell_type": "code",
      "metadata": {
        "id": "f3CdDaCfE9hl",
        "colab_type": "code",
        "colab": {}
      },
      "source": [
        "results=model.predict(test_data)"
      ],
      "execution_count": 0,
      "outputs": []
    },
    {
      "cell_type": "code",
      "metadata": {
        "id": "GlVoWbZSFgdV",
        "colab_type": "code",
        "colab": {
          "base_uri": "https://localhost:8080/",
          "height": 51
        },
        "outputId": "714407fe-7e86-422d-f644-6d5e565700fe"
      },
      "source": [
        "model.evaluate(new_test_data,new_test_target)"
      ],
      "execution_count": 8,
      "outputs": [
        {
          "output_type": "stream",
          "text": [
            "313/313 [==============================] - 1s 2ms/step - loss: 0.1210 - accuracy: 0.9784\n"
          ],
          "name": "stdout"
        },
        {
          "output_type": "execute_result",
          "data": {
            "text/plain": [
              "[0.1210416629910469, 0.9783999919891357]"
            ]
          },
          "metadata": {
            "tags": []
          },
          "execution_count": 8
        }
      ]
    },
    {
      "cell_type": "code",
      "metadata": {
        "id": "_9N_n5KJTzv8",
        "colab_type": "code",
        "colab": {}
      },
      "source": [
        "model.save('MNIST-FFNN.model',save_format=\"h5\")"
      ],
      "execution_count": 0,
      "outputs": []
    }
  ]
}